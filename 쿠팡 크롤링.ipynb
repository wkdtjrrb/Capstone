{
 "cells": [
  {
   "cell_type": "code",
   "execution_count": 1,
   "id": "997293bc",
   "metadata": {},
   "outputs": [],
   "source": [
    "# 필요한 라이브러리 불러오기\n",
    "import pandas as pd\n",
    "import time\n",
    "from selenium import webdriver\n",
    "from selenium.webdriver.chrome.service import Service\n",
    "from selenium.webdriver.chrome.options import Options\n",
    "from selenium.webdriver.common.by import By\n",
    "from webdriver_manager.chrome import ChromeDriverManager\n",
    "from selenium.webdriver.support.ui import WebDriverWait\n",
    "from selenium.webdriver.support import expected_conditions as EC\n",
    "from selenium.common.exceptions import TimeoutException\n",
    "import time\n",
    "import pandas as pd\n",
    "import json\n",
    "from selenium.webdriver.support.ui import WebDriverWait"
   ]
  },
  {
   "cell_type": "code",
   "execution_count": 2,
   "id": "13238a49",
   "metadata": {},
   "outputs": [
    {
     "data": {
      "text/html": [
       "<div>\n",
       "<style scoped>\n",
       "    .dataframe tbody tr th:only-of-type {\n",
       "        vertical-align: middle;\n",
       "    }\n",
       "\n",
       "    .dataframe tbody tr th {\n",
       "        vertical-align: top;\n",
       "    }\n",
       "\n",
       "    .dataframe thead th {\n",
       "        text-align: right;\n",
       "    }\n",
       "</style>\n",
       "<table border=\"1\" class=\"dataframe\">\n",
       "  <thead>\n",
       "    <tr style=\"text-align: right;\">\n",
       "      <th></th>\n",
       "      <th>name</th>\n",
       "      <th>brand</th>\n",
       "      <th>price</th>\n",
       "      <th>discount_rate</th>\n",
       "      <th>final_price</th>\n",
       "      <th>score_average</th>\n",
       "      <th>score_count</th>\n",
       "      <th>user_name</th>\n",
       "      <th>review_title</th>\n",
       "      <th>review</th>\n",
       "      <th>score</th>\n",
       "    </tr>\n",
       "  </thead>\n",
       "  <tbody>\n",
       "  </tbody>\n",
       "</table>\n",
       "</div>"
      ],
      "text/plain": [
       "Empty DataFrame\n",
       "Columns: [name, brand, price, discount_rate, final_price, score_average, score_count, user_name, review_title, review, score]\n",
       "Index: []"
      ]
     },
     "execution_count": 2,
     "metadata": {},
     "output_type": "execute_result"
    }
   ],
   "source": [
    "# 정보를 저장할 데이터프레임 생성\n",
    "columns = ['name', 'brand', 'price', 'discount_rate', 'final_price', 'score_average', 'score_count', 'user_name', 'review_title', 'review', 'score']\n",
    "df = pd.DataFrame(columns=columns)\n",
    "df"
   ]
  },
  {
   "cell_type": "code",
   "execution_count": 23,
   "id": "2e8eeb81",
   "metadata": {},
   "outputs": [
    {
     "name": "stdout",
     "output_type": "stream",
     "text": [
      "상품 21 추가 완료\n",
      "상품 22 추가 완료\n",
      "상품 23 추가 완료\n",
      "상품 24 추가 완료\n"
     ]
    }
   ],
   "source": [
    "# 크롬 드라이버 설정\n",
    "options = Options()\n",
    "options.add_argument(\"--disable-blink-features=AutomationControlled\")\n",
    "driver = webdriver.Chrome(service=Service(ChromeDriverManager().install()), options=options)\n",
    "\n",
    "# 시작 페이지 접속(카테고리별 페이지)\n",
    "driver.get('https://www.coupang.com/np/categories/486249')\n",
    "time.sleep(5)\n",
    "\n",
    "# 페이지 이동\n",
    "for k in range(2, 3):\n",
    "    if k >= 2:\n",
    "        page_element = driver.find_element(By.XPATH, f\"/html/body/div[3]/section/form/div/div/div[1]/div/div[4]/div/a[{k+1}]\")\n",
    "        driver.execute_script(\"window.scrollTo(0, document.body.scrollHeight);\")\n",
    "        driver.execute_script(\"arguments[0].scrollIntoView(true);\", page_element)\n",
    "        page_element.click()\n",
    "        time.sleep(5)\n",
    "        \n",
    "    # 상품 클릭 후 정보 수집, 뒤로가기 반복    \n",
    "    for i in range(21, 61):\n",
    "        \n",
    "        # 상품 클릭\n",
    "        product_element = driver.find_element(By.XPATH, f\"/html/body/div[3]/section/form/div/div/div[1]/div/ul/li[{i}]/a/dl\")\n",
    "        driver.execute_script(\"arguments[0].scrollIntoView(true);\", product_element)\n",
    "        product_element.click()\n",
    "        time.sleep(5)\n",
    "    \n",
    "        # 상품 정보 수집(이름, 브랜드, 가격, 할인율)\n",
    "        item_info = []\n",
    "        \n",
    "        try: name = driver.find_element(By.XPATH, \"/html/body/div[2]/section/div[2]/div[1]/div[3]/div[3]/h1\").text\n",
    "        except: \n",
    "            try: name = driver.find_element(By.XPATH, \"/html/body/div[2]/section/div[2]/div[1]/div[3]/div[4]/h1\").text\n",
    "            except: name = \" \"\n",
    "            \n",
    "        try: brand = driver.find_element(By.XPATH, \"/html/body/div[2]/section/div[2]/div[1]/div[3]/a\").text\n",
    "        except: brand = \" \"\n",
    "            \n",
    "        try: price = driver.find_element(By.XPATH, \"/html/body/div[2]/section/div[2]/div[1]/div[3]/div[5]/div[1]/div/div[1]/span[2]\").text\n",
    "        except: price = \" \"\n",
    "            \n",
    "        try: discount_rate = driver.find_element(By.XPATH, \"/html/body/div[2]/section/div[2]/div[1]/div[3]/div[5]/div[1]/div/div[1]/span[1]\").text\n",
    "        except: discount_rate = \" \"\n",
    "            \n",
    "        try: final_price = driver.find_element(By.XPATH, \"/html/body/div[2]/section/div[2]/div[1]/div[3]/div[5]/div[1]/div/div[2]/span/strong\").text\n",
    "        except: final_price = \" \"\n",
    "        \n",
    "        # 상품평 탭 클릭\n",
    "        time.sleep(1)\n",
    "        score_element = driver.find_element(By.XPATH, \"/html/body/div[2]/section/div[2]/div[2]/div[8]/ul[1]/li[2]\")\n",
    "        driver.execute_script(\"arguments[0].scrollIntoView(true);\", score_element)\n",
    "        score_element.click()\n",
    "        time.sleep(5)\n",
    "    \n",
    "        # 평균별점, 리뷰개수\n",
    "        try: score_average = driver.find_element(By.XPATH, \"/html/body/div[2]/section/div[2]/div[2]/div[8]/ul[2]/li[2]/div/div[4]/section[1]/div[1]/div[1]/div\").get_attribute('data-rating')\n",
    "        except: score_average = \" \"\n",
    "        try: score_count = driver.find_element(By.XPATH, \"/html/body/div[2]/section/div[2]/div[2]/div[8]/ul[2]/li[2]/div/div[4]/section[1]/div[1]/div[2]\").text\n",
    "        except: score_count = \" \"\n",
    "            \n",
    "        item_info.extend([name, brand, price, discount_rate, final_price, score_average, score_count])   \n",
    "        \n",
    "        # 드롭다운(별점) 선택\n",
    "        for z in range(1, 6):\n",
    "            back_element = driver.find_element(By.XPATH, \"/html/body/div[2]/section/div[2]/div[2]/div[8]/ul[2]/li[2]/div/h4\")\n",
    "            driver.execute_script(\"arguments[0].scrollIntoView(true);\", back_element) # 위치 초기화\n",
    "            time.sleep(1)\n",
    "            try:\n",
    "                dropbox_element = driver.find_element(By.XPATH, \"/html/body/div[2]/section/div[2]/div[2]/div[8]/ul[2]/li[2]/div/div[6]/section[2]/div[3]\")\n",
    "                dropbox_element.click()\n",
    "            except:\n",
    "                continue\n",
    "            time.sleep(3)\n",
    "            option_element = driver.find_element(By.XPATH, f'//li[@data-rating=\"{z}\"]')\n",
    "            driver.execute_script(\"arguments[0].scrollIntoView(true);\", option_element)\n",
    "            option_element.click()\n",
    "            time.sleep(3)\n",
    "            \n",
    "            # 사용자 반응 수집\n",
    "            for j in range(1, 6):\n",
    "                review_info = []\n",
    "        \n",
    "                # 사용자 아이디\n",
    "                try:\n",
    "                    user_element = driver.find_element(By.XPATH, f\"/html/body/div[2]/section/div[2]/div[2]/div[8]/ul[2]/li[2]/div/div[6]/section[4]/article[{j}]/div[1]/div[2]/span\")\n",
    "                    driver.execute_script(\"arguments[0].scrollIntoView(true);\", user_element)\n",
    "                    user_name = user_element.text\n",
    "                except: user_name = \" \"\n",
    "        \n",
    "                # 리뷰 제목\n",
    "                try:\n",
    "                    review_title_element = driver.find_element(By.XPATH, f\"/html/body/div[2]/section/div[2]/div[2]/div[8]/ul[2]/li[2]/div/div[6]/section[4]/article[{j}]/div[3]\")\n",
    "                    driver.execute_script(\"arguments[0].scrollIntoView(true);\", review_title_element)\n",
    "                    review_title = review_title_element.text\n",
    "                except: review_title = \" \"\n",
    "        \n",
    "                # 리뷰 내용\n",
    "                try:\n",
    "                    review_text_element = driver.find_element(By.XPATH, f\"/html/body/div[2]/section/div[2]/div[2]/div[8]/ul[2]/li[2]/div/div[6]/section[4]/article[{j}]/div[4]/div\")\n",
    "                    driver.execute_script(\"arguments[0].scrollIntoView(true);\", review_text_element)\n",
    "                    review = review_text_element.text\n",
    "                except: review = \" \"\n",
    "            \n",
    "                # 별점\n",
    "                score = z\n",
    "        \n",
    "                # 데이터프레임에 저장\n",
    "                review_info.extend([user_name, review_title, review, score])\n",
    "                df.loc[len(df)] = item_info + review_info\n",
    "        print(f'상품 {i} 추가 완료')\n",
    "        driver.back()"
   ]
  },
  {
   "cell_type": "code",
   "execution_count": 10,
   "id": "3f9f8e7b",
   "metadata": {},
   "outputs": [
    {
     "data": {
      "text/plain": [
       "(2000, 11)"
      ]
     },
     "execution_count": 10,
     "metadata": {},
     "output_type": "execute_result"
    }
   ],
   "source": [
    "df.shape"
   ]
  },
  {
   "cell_type": "code",
   "execution_count": 11,
   "id": "bf289e50",
   "metadata": {},
   "outputs": [],
   "source": [
    "df.to_csv(\"./lotion_1_80.csv\", encoding='\"utf-8-sig\"')"
   ]
  }
 ],
 "metadata": {
  "kernelspec": {
   "display_name": "Python 3 (ipykernel)",
   "language": "python",
   "name": "python3"
  },
  "language_info": {
   "codemirror_mode": {
    "name": "ipython",
    "version": 3
   },
   "file_extension": ".py",
   "mimetype": "text/x-python",
   "name": "python",
   "nbconvert_exporter": "python",
   "pygments_lexer": "ipython3",
   "version": "3.9.12"
  }
 },
 "nbformat": 4,
 "nbformat_minor": 5
}
